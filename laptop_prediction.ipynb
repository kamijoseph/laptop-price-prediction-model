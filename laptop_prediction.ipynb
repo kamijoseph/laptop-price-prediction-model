{
 "cells": [
  {
   "cell_type": "markdown",
   "id": "ffb041c9-6199-41e7-97bc-74c9e9f402c6",
   "metadata": {},
   "source": [
    "# Laptop Prediction Project"
   ]
  },
  {
   "cell_type": "code",
   "execution_count": null,
   "id": "d715f426-94da-408a-9025-f273a6cf4a64",
   "metadata": {},
   "outputs": [],
   "source": [
    "import pandas as pd\n",
    "import numpy as np\n",
    "import matplotlib.pyplot as plt"
   ]
  },
  {
   "cell_type": "code",
   "execution_count": null,
   "id": "31d9da34-4c36-477f-82c8-8c0bf6e8f72f",
   "metadata": {},
   "outputs": [],
   "source": []
  }
 ],
 "metadata": {
  "kernelspec": {
   "display_name": "Python 3 (ipykernel)",
   "language": "python",
   "name": "python3"
  },
  "language_info": {
   "codemirror_mode": {
    "name": "ipython",
    "version": 3
   },
   "file_extension": ".py",
   "mimetype": "text/x-python",
   "name": "python",
   "nbconvert_exporter": "python",
   "pygments_lexer": "ipython3",
   "version": "3.12.7"
  }
 },
 "nbformat": 4,
 "nbformat_minor": 5
}
