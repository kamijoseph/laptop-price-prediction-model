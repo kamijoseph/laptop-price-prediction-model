{
 "cells": [
  {
   "cell_type": "markdown",
   "id": "13573893-ba4e-4201-bbfa-64517b73bbff",
   "metadata": {},
   "source": [
    "# Laptop Price Predictor"
   ]
  },
  {
   "cell_type": "code",
   "execution_count": 2,
   "id": "6b1d6775-b65e-457f-85f8-98e4f01c601b",
   "metadata": {},
   "outputs": [],
   "source": [
    "import numpy as np\n",
    "import pandas as pd\n",
    "import matplotlib.pyplot as plt"
   ]
  },
  {
   "cell_type": "code",
   "execution_count": null,
   "id": "2c5b71a1-373a-41e4-be78-1ed18c4b207b",
   "metadata": {},
   "outputs": [],
   "source": []
  }
 ],
 "metadata": {
  "kernelspec": {
   "display_name": "Python 3 (ipykernel)",
   "language": "python",
   "name": "python3"
  },
  "language_info": {
   "codemirror_mode": {
    "name": "ipython",
    "version": 3
   },
   "file_extension": ".py",
   "mimetype": "text/x-python",
   "name": "python",
   "nbconvert_exporter": "python",
   "pygments_lexer": "ipython3",
   "version": "3.12.7"
  }
 },
 "nbformat": 4,
 "nbformat_minor": 5
}
